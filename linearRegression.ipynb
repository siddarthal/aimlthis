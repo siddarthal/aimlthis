{
 "cells": [
  {
   "cell_type": "code",
   "execution_count": 1,
   "id": "df446743",
   "metadata": {},
   "outputs": [],
   "source": [
    "import numpy as np\n",
    "import pandas as pd\n",
    "import matplotlib.pyplot as plt"
   ]
  },
  {
   "cell_type": "code",
   "execution_count": 2,
   "id": "fbc5f3b6",
   "metadata": {},
   "outputs": [
    {
     "name": "stdout",
     "output_type": "stream",
     "text": [
      "[1, 2, 3, 4, 5, 6, 7, 8, 9, 10, 11, 12, 13, 14, 15, 16, 17, 18, 19, 20] apple_qty\n",
      "[80, 110, 140, 170, 200, 230, 260, 290, 320, 350, 380, 410, 440, 470, 500, 530, 560, 590, 620, 650] amount_spent\n"
     ]
    }
   ],
   "source": [
    "apple_qty=list(range(1,21))\n",
    "parking_charge=50\n",
    "per_apple_price=30\n",
    "amount_spent=[(n*per_apple_price)+parking_charge for n in apple_qty]\n",
    "print(apple_qty,\"apple_qty\")\n",
    "print(amount_spent,\"amount_spent\")"
   ]
  },
  {
   "cell_type": "code",
   "execution_count": 3,
   "id": "97a6df57",
   "metadata": {},
   "outputs": [
    {
     "data": {
      "text/plain": [
       "[<matplotlib.lines.Line2D at 0x200c5243c10>]"
      ]
     },
     "execution_count": 3,
     "metadata": {},
     "output_type": "execute_result"
    },
    {
     "data": {
      "image/png": "[encoded data removed]",
      "text/plain": [
       "<Figure size 640x480 with 1 Axes>"
      ]
     },
     "metadata": {},
     "output_type": "display_data"
    }
   ],
   "source": [
    "plt.plot(apple_qty,amount_spent)"
   ]
  },
  {
   "cell_type": "code",
   "execution_count": 4,
   "id": "7a2256d9",
   "metadata": {},
   "outputs": [
    {
     "data": {
      "text/html": [
       "<div>\n",
       "<style scoped>\n",
       "    .dataframe tbody tr th:only-of-type {\n",
       "        vertical-align: middle;\n",
       "    }\n",
       "\n",
       "    .dataframe tbody tr th {\n",
       "        vertical-align: top;\n",
       "    }\n",
       "\n",
       "    .dataframe thead th {\n",
       "        text-align: right;\n",
       "    }\n",
       "</style>\n",
       "<table border=\"1\" class=\"dataframe\">\n",
       "  <thead>\n",
       "    <tr style=\"text-align: right;\">\n",
       "      <th></th>\n",
       "      <th>YearsExperience</th>\n",
       "      <th>Salary</th>\n",
       "    </tr>\n",
       "  </thead>\n",
       "  <tbody>\n",
       "    <tr>\n",
       "      <th>0</th>\n",
       "      <td>1.1</td>\n",
       "      <td>39343</td>\n",
       "    </tr>\n",
       "    <tr>\n",
       "      <th>1</th>\n",
       "      <td>1.3</td>\n",
       "      <td>46205</td>\n",
       "    </tr>\n",
       "    <tr>\n",
       "      <th>2</th>\n",
       "      <td>1.5</td>\n",
       "      <td>37731</td>\n",
       "    </tr>\n",
       "    <tr>\n",
       "      <th>3</th>\n",
       "      <td>2.0</td>\n",
       "      <td>43525</td>\n",
       "    </tr>\n",
       "    <tr>\n",
       "      <th>4</th>\n",
       "      <td>2.2</td>\n",
       "      <td>39891</td>\n",
       "    </tr>\n",
       "    <tr>\n",
       "      <th>5</th>\n",
       "      <td>2.9</td>\n",
       "      <td>56642</td>\n",
       "    </tr>\n",
       "    <tr>\n",
       "      <th>6</th>\n",
       "      <td>3.0</td>\n",
       "      <td>60150</td>\n",
       "    </tr>\n",
       "    <tr>\n",
       "      <th>7</th>\n",
       "      <td>3.2</td>\n",
       "      <td>54445</td>\n",
       "    </tr>\n",
       "    <tr>\n",
       "      <th>8</th>\n",
       "      <td>3.2</td>\n",
       "      <td>64445</td>\n",
       "    </tr>\n",
       "    <tr>\n",
       "      <th>9</th>\n",
       "      <td>3.7</td>\n",
       "      <td>57189</td>\n",
       "    </tr>\n",
       "    <tr>\n",
       "      <th>10</th>\n",
       "      <td>3.9</td>\n",
       "      <td>63218</td>\n",
       "    </tr>\n",
       "    <tr>\n",
       "      <th>11</th>\n",
       "      <td>4.0</td>\n",
       "      <td>55794</td>\n",
       "    </tr>\n",
       "    <tr>\n",
       "      <th>12</th>\n",
       "      <td>4.0</td>\n",
       "      <td>56957</td>\n",
       "    </tr>\n",
       "    <tr>\n",
       "      <th>13</th>\n",
       "      <td>4.1</td>\n",
       "      <td>57081</td>\n",
       "    </tr>\n",
       "    <tr>\n",
       "      <th>14</th>\n",
       "      <td>4.5</td>\n",
       "      <td>61111</td>\n",
       "    </tr>\n",
       "    <tr>\n",
       "      <th>15</th>\n",
       "      <td>4.9</td>\n",
       "      <td>67938</td>\n",
       "    </tr>\n",
       "    <tr>\n",
       "      <th>16</th>\n",
       "      <td>5.1</td>\n",
       "      <td>66029</td>\n",
       "    </tr>\n",
       "    <tr>\n",
       "      <th>17</th>\n",
       "      <td>5.3</td>\n",
       "      <td>83088</td>\n",
       "    </tr>\n",
       "    <tr>\n",
       "      <th>18</th>\n",
       "      <td>5.9</td>\n",
       "      <td>81363</td>\n",
       "    </tr>\n",
       "    <tr>\n",
       "      <th>19</th>\n",
       "      <td>6.0</td>\n",
       "      <td>93940</td>\n",
       "    </tr>\n",
       "    <tr>\n",
       "      <th>20</th>\n",
       "      <td>6.8</td>\n",
       "      <td>91738</td>\n",
       "    </tr>\n",
       "    <tr>\n",
       "      <th>21</th>\n",
       "      <td>7.1</td>\n",
       "      <td>98273</td>\n",
       "    </tr>\n",
       "    <tr>\n",
       "      <th>22</th>\n",
       "      <td>7.9</td>\n",
       "      <td>101302</td>\n",
       "    </tr>\n",
       "    <tr>\n",
       "      <th>23</th>\n",
       "      <td>8.2</td>\n",
       "      <td>113812</td>\n",
       "    </tr>\n",
       "    <tr>\n",
       "      <th>24</th>\n",
       "      <td>8.7</td>\n",
       "      <td>109431</td>\n",
       "    </tr>\n",
       "    <tr>\n",
       "      <th>25</th>\n",
       "      <td>9.0</td>\n",
       "      <td>105582</td>\n",
       "    </tr>\n",
       "    <tr>\n",
       "      <th>26</th>\n",
       "      <td>9.5</td>\n",
       "      <td>116969</td>\n",
       "    </tr>\n",
       "    <tr>\n",
       "      <th>27</th>\n",
       "      <td>9.6</td>\n",
       "      <td>112635</td>\n",
       "    </tr>\n",
       "    <tr>\n",
       "      <th>28</th>\n",
       "      <td>10.3</td>\n",
       "      <td>122391</td>\n",
       "    </tr>\n",
       "    <tr>\n",
       "      <th>29</th>\n",
       "      <td>10.5</td>\n",
       "      <td>121872</td>\n",
       "    </tr>\n",
       "    <tr>\n",
       "      <th>30</th>\n",
       "      <td>5.6</td>\n",
       "      <td>77982</td>\n",
       "    </tr>\n",
       "    <tr>\n",
       "      <th>31</th>\n",
       "      <td>3.2</td>\n",
       "      <td>55015</td>\n",
       "    </tr>\n",
       "    <tr>\n",
       "      <th>32</th>\n",
       "      <td>1.5</td>\n",
       "      <td>38747</td>\n",
       "    </tr>\n",
       "    <tr>\n",
       "      <th>33</th>\n",
       "      <td>1.9</td>\n",
       "      <td>42575</td>\n",
       "    </tr>\n",
       "    <tr>\n",
       "      <th>34</th>\n",
       "      <td>10.5</td>\n",
       "      <td>124873</td>\n",
       "    </tr>\n",
       "  </tbody>\n",
       "</table>\n",
       "</div>"
      ],
      "text/plain": [
       "    YearsExperience  Salary\n",
       "0               1.1   39343\n",
       "1               1.3   46205\n",
       "2               1.5   37731\n",
       "3               2.0   43525\n",
       "4               2.2   39891\n",
       "5               2.9   56642\n",
       "6               3.0   60150\n",
       "7               3.2   54445\n",
       "8               3.2   64445\n",
       "9               3.7   57189\n",
       "10              3.9   63218\n",
       "11              4.0   55794\n",
       "12              4.0   56957\n",
       "13              4.1   57081\n",
       "14              4.5   61111\n",
       "15              4.9   67938\n",
       "16              5.1   66029\n",
       "17              5.3   83088\n",
       "18              5.9   81363\n",
       "19              6.0   93940\n",
       "20              6.8   91738\n",
       "21              7.1   98273\n",
       "22              7.9  101302\n",
       "23              8.2  113812\n",
       "24              8.7  109431\n",
       "25              9.0  105582\n",
       "26              9.5  116969\n",
       "27              9.6  112635\n",
       "28             10.3  122391\n",
       "29             10.5  121872\n",
       "30              5.6   77982\n",
       "31              3.2   55015\n",
       "32              1.5   38747\n",
       "33              1.9   42575\n",
       "34             10.5  124873"
      ]
     },
     "execution_count": 4,
     "metadata": {},
     "output_type": "execute_result"
    }
   ],
   "source": [
    "df = pd.read_csv(\"salary_data.csv\")\n",
    "df"
   ]
  },
  {
   "cell_type": "code",
   "execution_count": 5,
   "id": "b18ed112",
   "metadata": {},
   "outputs": [
    {
     "data": {
      "text/html": [
       "<div>\n",
       "<style scoped>\n",
       "    .dataframe tbody tr th:only-of-type {\n",
       "        vertical-align: middle;\n",
       "    }\n",
       "\n",
       "    .dataframe tbody tr th {\n",
       "        vertical-align: top;\n",
       "    }\n",
       "\n",
       "    .dataframe thead th {\n",
       "        text-align: right;\n",
       "    }\n",
       "</style>\n",
       "<table border=\"1\" class=\"dataframe\">\n",
       "  <thead>\n",
       "    <tr style=\"text-align: right;\">\n",
       "      <th></th>\n",
       "      <th>YearsExperience</th>\n",
       "      <th>Salary</th>\n",
       "    </tr>\n",
       "  </thead>\n",
       "  <tbody>\n",
       "    <tr>\n",
       "      <th>0</th>\n",
       "      <td>1.1</td>\n",
       "      <td>39343</td>\n",
       "    </tr>\n",
       "    <tr>\n",
       "      <th>1</th>\n",
       "      <td>1.3</td>\n",
       "      <td>46205</td>\n",
       "    </tr>\n",
       "    <tr>\n",
       "      <th>2</th>\n",
       "      <td>1.5</td>\n",
       "      <td>37731</td>\n",
       "    </tr>\n",
       "    <tr>\n",
       "      <th>3</th>\n",
       "      <td>2.0</td>\n",
       "      <td>43525</td>\n",
       "    </tr>\n",
       "    <tr>\n",
       "      <th>4</th>\n",
       "      <td>2.2</td>\n",
       "      <td>39891</td>\n",
       "    </tr>\n",
       "  </tbody>\n",
       "</table>\n",
       "</div>"
      ],
      "text/plain": [
       "   YearsExperience  Salary\n",
       "0              1.1   39343\n",
       "1              1.3   46205\n",
       "2              1.5   37731\n",
       "3              2.0   43525\n",
       "4              2.2   39891"
      ]
     },
     "execution_count": 5,
     "metadata": {},
     "output_type": "execute_result"
    }
   ],
   "source": [
    "df.head()"
   ]
  },
  {
   "cell_type": "code",
   "execution_count": 6,
   "id": "92ce7ada",
   "metadata": {},
   "outputs": [
    {
     "data": {
      "text/plain": [
       "YearsExperience    0\n",
       "Salary             0\n",
       "dtype: int64"
      ]
     },
     "execution_count": 6,
     "metadata": {},
     "output_type": "execute_result"
    }
   ],
   "source": [
    "df.isnull().sum()"
   ]
  },
  {
   "cell_type": "code",
   "execution_count": 8,
   "id": "be2d6ea1",
   "metadata": {},
   "outputs": [
    {
     "data": {
      "text/plain": [
       "(35, 2)"
      ]
     },
     "execution_count": 8,
     "metadata": {},
     "output_type": "execute_result"
    }
   ],
   "source": [
    "df.shape"
   ]
  },
  {
   "cell_type": "code",
   "execution_count": 9,
   "id": "031c6956",
   "metadata": {},
   "outputs": [
    {
     "data": {
      "text/plain": [
       "<matplotlib.collections.PathCollection at 0x200c761a9d0>"
      ]
     },
     "execution_count": 9,
     "metadata": {},
     "output_type": "execute_result"
    },
    {
     "data": {
      "image/png": "[encoded data removed]",
      "text/plain": [
       "<Figure size 640x480 with 1 Axes>"
      ]
     },
     "metadata": {},
     "output_type": "display_data"
    }
   ],
   "source": [
    "plt.scatter(df['YearsExperience'],df['Salary'])"
   ]
  },
  {
   "cell_type": "code",
   "execution_count": 10,
   "id": "5a77ee8d",
   "metadata": {},
   "outputs": [
    {
     "name": "stdout",
     "output_type": "stream",
     "text": [
      "X [ 1.1  1.3  1.5  2.   2.2  2.9  3.   3.2  3.2  3.7  3.9  4.   4.   4.1\n",
      "  4.5  4.9  5.1  5.3  5.9  6.   6.8  7.1  7.9  8.2  8.7  9.   9.5  9.6\n",
      " 10.3 10.5  5.6  3.2  1.5  1.9 10.5]\n",
      "Y [ 39343  46205  37731  43525  39891  56642  60150  54445  64445  57189\n",
      "  63218  55794  56957  57081  61111  67938  66029  83088  81363  93940\n",
      "  91738  98273 101302 113812 109431 105582 116969 112635 122391 121872\n",
      "  77982  55015  38747  42575 124873]\n"
     ]
    }
   ],
   "source": [
    "data_X=df[\"YearsExperience\"].values\n",
    "data_Y=df[\"Salary\"].values\n",
    "print('X',data_X)\n",
    "print('Y',data_Y)"
   ]
  },
  {
   "cell_type": "code",
   "execution_count": 13,
   "id": "0df5240b",
   "metadata": {},
   "outputs": [
    {
     "name": "stdout",
     "output_type": "stream",
     "text": [
      "X [ 1.1  1.3  1.5  2.   2.2  2.9  3.   3.2  3.2  3.7  3.9  4.   4.   4.1\n",
      "  4.5  4.9  5.1  5.3  5.9  6.   6.8  7.1  7.9  8.2  8.7  9.   9.5  9.6\n",
      " 10.3 10.5  5.6  3.2  1.5  1.9 10.5]\n",
      "Y [ 39343  46205  37731  43525  39891  56642  60150  54445  64445  57189\n",
      "  63218  55794  56957  57081  61111  67938  66029  83088  81363  93940\n",
      "  91738  98273 101302 113812 109431 105582 116969 112635 122391 121872\n",
      "  77982  55015  38747  42575 124873]\n"
     ]
    }
   ],
   "source": [
    "data_X=df.iloc[:,0].values\n",
    "data_Y=df.iloc[:,1].values\n",
    "print('X',data_X)\n",
    "print('Y',data_Y)"
   ]
  },
  {
   "cell_type": "code",
   "execution_count": 14,
   "id": "662235bd",
   "metadata": {},
   "outputs": [],
   "source": [
    "#split to train and test"
   ]
  },
  {
   "cell_type": "code",
   "execution_count": 31,
   "id": "8e4e96ff",
   "metadata": {},
   "outputs": [
    {
     "name": "stdout",
     "output_type": "stream",
     "text": [
      "shapeX- (31,)   5.6\n",
      "shapeY- (4,)\n",
      "shapeX- (31, 1)   [5.6]\n",
      "shapeY- (4, 1)   [8.7]\n",
      "[[ 5.6]\n",
      " [ 5.3]\n",
      " [ 3.2]\n",
      " [ 4. ]\n",
      " [ 4.5]\n",
      " [10.3]\n",
      " [ 4.1]\n",
      " [10.5]\n",
      " [ 1.9]\n",
      " [ 3.7]\n",
      " [ 8.2]\n",
      " [ 3.9]\n",
      " [ 3.2]\n",
      " [ 5.1]\n",
      " [ 4. ]\n",
      " [ 1.1]\n",
      " [ 9.6]\n",
      " [ 9.5]\n",
      " [ 6. ]\n",
      " [ 6.8]\n",
      " [ 2.2]\n",
      " [ 1.3]\n",
      " [ 7.9]\n",
      " [ 1.5]\n",
      " [ 5.9]\n",
      " [ 9. ]\n",
      " [ 3. ]\n",
      " [ 2.9]\n",
      " [ 3.2]\n",
      " [ 2. ]\n",
      " [ 4.9]]\n"
     ]
    }
   ],
   "source": [
    "from sklearn.model_selection import train_test_split\n",
    "X_train,X_test,Y_train,Y_test=train_test_split(data_X,data_Y,test_size=0.1)\n",
    "\n",
    "\n",
    "print(\"shapeX-\",X_train.shape,\" \",X_train[0])\n",
    "print(\"shapeY-\",X_test.shape)\n",
    "#Reshape X_train\n",
    "x_train =X_train.reshape(len(X_train),1)\n",
    "x_test = X_test.reshape(len(X_test),1)\n",
    "print(\"shapeX-\",x_train.shape,\" \",x_train[0])\n",
    "print(\"shapeY-\",x_test.shape,\" \",x_test[0])\n",
    "print(x_train)"
   ]
  },
  {
   "cell_type": "code",
   "execution_count": null,
   "id": "ac75be03",
   "metadata": {},
   "outputs": [],
   "source": []
  },
  {
   "cell_type": "code",
   "execution_count": 32,
   "id": "db7969b9",
   "metadata": {},
   "outputs": [],
   "source": [
    "from sklearn.linear_model import LinearRegression"
   ]
  },
  {
   "cell_type": "code",
   "execution_count": null,
   "id": "b848ebb0",
   "metadata": {},
   "outputs": [],
   "source": []
  },
  {
   "cell_type": "code",
   "execution_count": 33,
   "id": "17141d9c",
   "metadata": {},
   "outputs": [],
   "source": [
    "#create object or model"
   ]
  },
  {
   "cell_type": "code",
   "execution_count": 34,
   "id": "a5075594",
   "metadata": {},
   "outputs": [],
   "source": [
    "reg =LinearRegression()"
   ]
  },
  {
   "cell_type": "code",
   "execution_count": 35,
   "id": "88c3fd06",
   "metadata": {},
   "outputs": [],
   "source": [
    "#fit the model"
   ]
  },
  {
   "cell_type": "code",
   "execution_count": 37,
   "id": "74c392a5",
   "metadata": {},
   "outputs": [
    {
     "data": {
      "text/html": [
       "<style>#sk-container-id-1 {color: black;background-color: white;}#sk-container-id-1 pre{padding: 0;}#sk-container-id-1 div.sk-toggleable {background-color: white;}#sk-container-id-1 label.sk-toggleable__label {cursor: pointer;display: block;width: 100%;margin-bottom: 0;padding: 0.3em;box-sizing: border-box;text-align: center;}#sk-container-id-1 label.sk-toggleable__label-arrow:before {content: \"▸\";float: left;margin-right: 0.25em;color: #696969;}#sk-container-id-1 label.sk-toggleable__label-arrow:hover:before {color: black;}#sk-container-id-1 div.sk-estimator:hover label.sk-toggleable__label-arrow:before {color: black;}#sk-container-id-1 div.sk-toggleable__content {max-height: 0;max-width: 0;overflow: hidden;text-align: left;background-color: #f0f8ff;}#sk-container-id-1 div.sk-toggleable__content pre {margin: 0.2em;color: black;border-radius: 0.25em;background-color: #f0f8ff;}#sk-container-id-1 input.sk-toggleable__control:checked~div.sk-toggleable__content {max-height: 200px;max-width: 100%;overflow: auto;}#sk-container-id-1 input.sk-toggleable__control:checked~label.sk-toggleable__label-arrow:before {content: \"▾\";}#sk-container-id-1 div.sk-estimator input.sk-toggleable__control:checked~label.sk-toggleable__label {background-color: #d4ebff;}#sk-container-id-1 div.sk-label input.sk-toggleable__control:checked~label.sk-toggleable__label {background-color: #d4ebff;}#sk-container-id-1 input.sk-hidden--visually {border: 0;clip: rect(1px 1px 1px 1px);clip: rect(1px, 1px, 1px, 1px);height: 1px;margin: -1px;overflow: hidden;padding: 0;position: absolute;width: 1px;}#sk-container-id-1 div.sk-estimator {font-family: monospace;background-color: #f0f8ff;border: 1px dotted black;border-radius: 0.25em;box-sizing: border-box;margin-bottom: 0.5em;}#sk-container-id-1 div.sk-estimator:hover {background-color: #d4ebff;}#sk-container-id-1 div.sk-parallel-item::after {content: \"\";width: 100%;border-bottom: 1px solid gray;flex-grow: 1;}#sk-container-id-1 div.sk-label:hover label.sk-toggleable__label {background-color: #d4ebff;}#sk-container-id-1 div.sk-serial::before {content: \"\";position: absolute;border-left: 1px solid gray;box-sizing: border-box;top: 0;bottom: 0;left: 50%;z-index: 0;}#sk-container-id-1 div.sk-serial {display: flex;flex-direction: column;align-items: center;background-color: white;padding-right: 0.2em;padding-left: 0.2em;position: relative;}#sk-container-id-1 div.sk-item {position: relative;z-index: 1;}#sk-container-id-1 div.sk-parallel {display: flex;align-items: stretch;justify-content: center;background-color: white;position: relative;}#sk-container-id-1 div.sk-item::before, #sk-container-id-1 div.sk-parallel-item::before {content: \"\";position: absolute;border-left: 1px solid gray;box-sizing: border-box;top: 0;bottom: 0;left: 50%;z-index: -1;}#sk-container-id-1 div.sk-parallel-item {display: flex;flex-direction: column;z-index: 1;position: relative;background-color: white;}#sk-container-id-1 div.sk-parallel-item:first-child::after {align-self: flex-end;width: 50%;}#sk-container-id-1 div.sk-parallel-item:last-child::after {align-self: flex-start;width: 50%;}#sk-container-id-1 div.sk-parallel-item:only-child::after {width: 0;}#sk-container-id-1 div.sk-dashed-wrapped {border: 1px dashed gray;margin: 0 0.4em 0.5em 0.4em;box-sizing: border-box;padding-bottom: 0.4em;background-color: white;}#sk-container-id-1 div.sk-label label {font-family: monospace;font-weight: bold;display: inline-block;line-height: 1.2em;}#sk-container-id-1 div.sk-label-container {text-align: center;}#sk-container-id-1 div.sk-container {/* jupyter's `normalize.less` sets `[hidden] { display: none; }` but bootstrap.min.css set `[hidden] { display: none !important; }` so we also need the `!important` here to be able to override the default hidden behavior on the sphinx rendered scikit-learn.org. See: https://github.com/scikit-learn/scikit-learn/issues/21755 */display: inline-block !important;position: relative;}#sk-container-id-1 div.sk-text-repr-fallback {display: none;}</style><div id=\"sk-container-id-1\" class=\"sk-top-container\"><div class=\"sk-text-repr-fallback\"><pre>LinearRegression()</pre><b>In a Jupyter environment, please rerun this cell to show the HTML representation or trust the notebook. <br />On GitHub, the HTML representation is unable to render, please try loading this page with nbviewer.org.</b></div><div class=\"sk-container\" hidden><div class=\"sk-item\"><div class=\"sk-estimator sk-toggleable\"><input class=\"sk-toggleable__control sk-hidden--visually\" id=\"sk-estimator-id-1\" type=\"checkbox\" checked><label for=\"sk-estimator-id-1\" class=\"sk-toggleable__label sk-toggleable__label-arrow\">LinearRegression</label><div class=\"sk-toggleable__content\"><pre>LinearRegression()</pre></div></div></div></div></div>"
      ],
      "text/plain": [
       "LinearRegression()"
      ]
     },
     "execution_count": 37,
     "metadata": {},
     "output_type": "execute_result"
    }
   ],
   "source": [
    "reg.fit(x_train,Y_train)"
   ]
  },
  {
   "cell_type": "code",
   "execution_count": 38,
   "id": "4b12f356",
   "metadata": {},
   "outputs": [],
   "source": [
    "#predict the output for known data"
   ]
  },
  {
   "cell_type": "code",
   "execution_count": 40,
   "id": "63af479c",
   "metadata": {},
   "outputs": [
    {
     "name": "stdout",
     "output_type": "stream",
     "text": [
      "[ 78507.84757404  75666.64123007  55778.19682231  63354.74707288\n",
      "  68090.09097949 123020.08029618  64301.81585421 124914.21785882\n",
      "  43466.30266512  60513.54072892 103131.63588841  62407.67829156\n",
      "  55778.19682231  73772.50366743  63354.74707288  35889.75241454\n",
      " 116390.59882692 115443.5300456   82296.12269933  89872.6729499\n",
      "  46307.50900908  37783.88997718 100290.42954445  39678.02753983\n",
      "  81349.053918   110708.18613899  53884.05925966  52936.99047834\n",
      "  55778.19682231  44413.37144644  71878.36610478]\n"
     ]
    }
   ],
   "source": [
    "predict_known_Y=reg.predict(x_train)\n",
    "print(predict_known_Y)"
   ]
  },
  {
   "cell_type": "code",
   "execution_count": 43,
   "id": "15d2e102",
   "metadata": {},
   "outputs": [
    {
     "name": "stdout",
     "output_type": "stream",
     "text": [
      "[5.6] - 77982 - 78507.84757403802\n",
      "[5.3] - 83088 - 75666.64123007152\n",
      "[3.2] - 64445 - 55778.19682230598\n",
      "[4.] - 55794 - 63354.74707288333\n",
      "[4.5] - 61111 - 68090.09097949417\n",
      "[10.3] - 122391 - 123020.08029617995\n",
      "[4.1] - 57081 - 64301.815854205495\n",
      "[10.5] - 124873 - 124914.21785882427\n",
      "[1.9] - 42575 - 43466.30266511779\n",
      "[3.7] - 57189 - 60513.54072891683\n",
      "[8.2] - 113812 - 103131.6358884144\n",
      "[3.9] - 63218 - 62407.67829156116\n",
      "[3.2] - 54445 - 55778.19682230598\n",
      "[5.1] - 66029 - 73772.50366742717\n",
      "[4.] - 56957 - 63354.74707288333\n",
      "[1.1] - 39343 - 35889.752414540446\n",
      "[9.6] - 112635 - 116390.59882692475\n",
      "[9.5] - 116969 - 115443.53004560259\n",
      "[6.] - 93940 - 82296.12269932669\n",
      "[6.8] - 91738 - 89872.67294990404\n",
      "[2.2] - 39891 - 46307.5090090843\n",
      "[1.3] - 46205 - 37783.88997718479\n",
      "[7.9] - 101302 - 100290.42954444789\n",
      "[1.5] - 37731 - 39678.02753982913\n",
      "[5.9] - 81363 - 81349.05391800453\n",
      "[9.] - 105582 - 110708.18613899173\n",
      "[3.] - 60150 - 53884.05925966165\n",
      "[2.9] - 56642 - 52936.990478339474\n",
      "[3.2] - 55015 - 55778.19682230598\n",
      "[2.] - 43525 - 44413.37144643997\n",
      "[4.9] - 67938 - 71878.36610478285\n"
     ]
    }
   ],
   "source": [
    "for x,y ,predy in zip(x_train,Y_train,predict_known_Y):\n",
    "    print(x,\"-\",y,\"-\",predy)"
   ]
  },
  {
   "cell_type": "code",
   "execution_count": 46,
   "id": "62c6c44d",
   "metadata": {},
   "outputs": [
    {
     "data": {
      "text/plain": [
       "[<matplotlib.lines.Line2D at 0x200cab14f50>]"
      ]
     },
     "execution_count": 46,
     "metadata": {},
     "output_type": "execute_result"
    },
    {
     "data": {
      "image/png": "[encoded data removed]",
      "text/plain": [
       "<Figure size 640x480 with 1 Axes>"
      ]
     },
     "metadata": {},
     "output_type": "display_data"
    }
   ],
   "source": [
    "plt.scatter(x_train,Y_train,color='b')\n",
    "plt.plot(x_train,predict_known_Y,color='r')"
   ]
  },
  {
   "cell_type": "code",
   "execution_count": 48,
   "id": "f5269321",
   "metadata": {},
   "outputs": [
    {
     "name": "stdout",
     "output_type": "stream",
     "text": [
      "m [9470.68781322]\n"
     ]
    }
   ],
   "source": [
    "print('m',reg.coef_)"
   ]
  },
  {
   "cell_type": "code",
   "execution_count": 49,
   "id": "ffe6dfc6",
   "metadata": {},
   "outputs": [
    {
     "name": "stdout",
     "output_type": "stream",
     "text": [
      "c 25471.9958199966\n"
     ]
    }
   ],
   "source": [
    "print('c',reg.intercept_\n",
    "     )"
   ]
  },
  {
   "cell_type": "code",
   "execution_count": 50,
   "id": "50499f0f",
   "metadata": {},
   "outputs": [
    {
     "name": "stdout",
     "output_type": "stream",
     "text": [
      "accuracy 0.9585346853701678\n"
     ]
    }
   ],
   "source": [
    "print(\"accuracy\",reg.score(x_train,Y_train))"
   ]
  },
  {
   "cell_type": "code",
   "execution_count": 51,
   "id": "c8e99f6e",
   "metadata": {},
   "outputs": [
    {
     "name": "stdout",
     "output_type": "stream",
     "text": [
      "accuracy-unknown--- 0.9893225745968094\n"
     ]
    }
   ],
   "source": [
    "print(\"accuracy-unknown---\",reg.score(x_test,Y_test))"
   ]
  },
  {
   "cell_type": "code",
   "execution_count": 52,
   "id": "872522d9",
   "metadata": {},
   "outputs": [],
   "source": [
    "predic_unknown =reg.predict(x_test)"
   ]
  },
  {
   "cell_type": "code",
   "execution_count": 53,
   "id": "d514cbf2",
   "metadata": {},
   "outputs": [
    {
     "name": "stdout",
     "output_type": "stream",
     "text": [
      "[8.7] - 109431 - 107866.97979502523\n",
      "[10.5] - 121872 - 124914.21785882427\n",
      "[7.1] - 98273 - 92713.87929387053\n",
      "[1.5] - 38747 - 39678.02753982913\n"
     ]
    }
   ],
   "source": [
    "for x , y ,predic in zip(x_test,Y_test,predic_unknown):\n",
    "    print(x,\"-\",y,\"-\",predic)"
   ]
  },
  {
   "cell_type": "code",
   "execution_count": 56,
   "id": "20b3bb8a",
   "metadata": {},
   "outputs": [
    {
     "data": {
      "text/plain": [
       "[<matplotlib.lines.Line2D at 0x200cad72410>]"
      ]
     },
     "execution_count": 56,
     "metadata": {},
     "output_type": "execute_result"
    },
    {
     "data": {
      "image/png": "[encoded data removed]",
      "text/plain": [
       "<Figure size 640x480 with 1 Axes>"
      ]
     },
     "metadata": {},
     "output_type": "display_data"
    }
   ],
   "source": [
    "plt.scatter(x_test,Y_test)\n",
    "plt.plot(x_test,predic_unknown,color='r')"
   ]
  },
  {
   "cell_type": "code",
   "execution_count": 57,
   "id": "25211c82",
   "metadata": {},
   "outputs": [],
   "source": [
    "from sklearn.metrics import mean_absolute_error,mean_squared_error"
   ]
  },
  {
   "cell_type": "code",
   "execution_count": 60,
   "id": "597b4844",
   "metadata": {},
   "outputs": [
    {
     "name": "stdout",
     "output_type": "stream",
     "text": [
      "mean absoulte error-- 4224.796547137738\n",
      "mean squared error---- 28987191.999489624\n",
      "rmse---- 5383.975482809114\n"
     ]
    }
   ],
   "source": [
    "print(\"mean absoulte error--\" , mean_absolute_error(Y_train,predict_known_Y))\n",
    "print(\"mean squared error----\",mean_squared_error(Y_train,predict_known_Y))\n",
    "print(\"rmse----\",np.sqrt(mean_squared_error(Y_train,predict_known_Y)))"
   ]
  },
  {
   "cell_type": "code",
   "execution_count": 61,
   "id": "ba24254a",
   "metadata": {},
   "outputs": [
    {
     "name": "stdout",
     "output_type": "stream",
     "text": [
      "[ 5.6  3.2  1.5  1.9 10.5]\n"
     ]
    }
   ],
   "source": [
    "#array of unkown data\n",
    "\n",
    "unknown_X=np.array([5.6,3.2,1.5,1.9,10.5])\n",
    "print(unknown_X)"
   ]
  },
  {
   "cell_type": "code",
   "execution_count": 63,
   "id": "77366791",
   "metadata": {},
   "outputs": [
    {
     "name": "stdout",
     "output_type": "stream",
     "text": [
      "[[ 5.6]\n",
      " [ 3.2]\n",
      " [ 1.5]\n",
      " [ 1.9]\n",
      " [10.5]]\n"
     ]
    }
   ],
   "source": [
    "unknown_x=unknown_X.reshape(len(unknown_X),1)\n",
    "print(unknown_x)"
   ]
  },
  {
   "cell_type": "code",
   "execution_count": 65,
   "id": "eaaafdae",
   "metadata": {},
   "outputs": [],
   "source": [
    "unkown_y=reg.predict(unknown_x)"
   ]
  },
  {
   "cell_type": "code",
   "execution_count": 69,
   "id": "da62ed2b",
   "metadata": {},
   "outputs": [
    {
     "name": "stdout",
     "output_type": "stream",
     "text": [
      "[5.6]  --  78507.84757403802\n",
      "[3.2]  --  55778.19682230598\n",
      "[1.5]  --  39678.02753982913\n",
      "[1.9]  --  43466.30266511779\n",
      "[10.5]  --  124914.21785882427\n"
     ]
    }
   ],
   "source": [
    "for x,y in zip(unknown_x,unkown_y):\n",
    "    print(x,\" -- \",y)"
   ]
  },
  {
   "cell_type": "code",
   "execution_count": null,
   "id": "1f5c31fb",
   "metadata": {},
   "outputs": [],
   "source": []
  }
 ],
 "metadata": {
  "kernelspec": {
   "display_name": "Python 3 (ipykernel)",
   "language": "python",
   "name": "python3"
  },
  "language_info": {
   "codemirror_mode": {
    "name": "ipython",
    "version": 3
   },
   "file_extension": ".py",
   "mimetype": "text/x-python",
   "name": "python",
   "nbconvert_exporter": "python",
   "pygments_lexer": "ipython3",
   "version": "3.11.4"
  }
 },
 "nbformat": 4,
 "nbformat_minor": 5
}
